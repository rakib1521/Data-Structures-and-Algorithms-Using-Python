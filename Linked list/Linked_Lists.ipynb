{
  "nbformat": 4,
  "nbformat_minor": 0,
  "metadata": {
    "colab": {
      "name": "Linked_Lists.ipynb",
      "provenance": []
    },
    "kernelspec": {
      "name": "python3",
      "display_name": "Python 3"
    },
    "language_info": {
      "name": "python"
    }
  },
  "cells": [
    {
      "cell_type": "markdown",
      "metadata": {
        "id": "MDRu1DV5MQsL"
      },
      "source": [
        "**A linked list is a sequence of data elements, which are connected together via links. Each data element contains a connection to another data element in form of a pointer.**"
      ]
    },
    {
      "cell_type": "markdown",
      "metadata": {
        "id": "iBMhl4zYMXwu"
      },
      "source": [
        "**Creation of Linked list**"
      ]
    },
    {
      "cell_type": "code",
      "metadata": {
        "id": "2GOywA7dMKUZ"
      },
      "source": [
        "class Node:\n",
        "  def __init__(self, dataval=None):\n",
        "    self.dataval=dataval\n",
        "    self.nextNode=None\n",
        "class singly_link_list:\n",
        "  def __init__(self):\n",
        "    self.headval=None  \n",
        "\n",
        "  #Traversing a Linked List    \n",
        "  def print_list(self):\n",
        "    current_node=self.headval\n",
        "    while(current_node!=None):\n",
        "      print(current_node.dataval)\n",
        "      current_node=current_node.nextNode\n",
        "\n",
        "  #Insertion in last\n",
        "  def insert_last(self,dataval):\n",
        "     newNode= Node(dataval)\n",
        "     if self.headval is None:\n",
        "       self.headval=newNode\n",
        "       return\n",
        "     current_node=self.headval\n",
        "     while(current_node.nextNode):\n",
        "       current_node=current_node.nextNode  \n",
        "     current_node.nextNode=newNode   \n",
        "\n",
        "\n",
        "  #Insertion in first\n",
        "  def insert_first(self,dataval):\n",
        "    newNode=Node(dataval)\n",
        "    newNode.nextNode=self.headval\n",
        "    self.headval=newNode  \n",
        "\n",
        "  #Insertion after\n",
        "  def insert_after(self,old_node,dataval):\n",
        "    newNode= Node(dataval)\n",
        "    if self.headval is None:\n",
        "       self.headval=newNode\n",
        "       return\n",
        "    current_node=self.headval\n",
        "    while(current_node.dataval!=old_node):\n",
        "       current_node=current_node.nextNode  \n",
        "    newNode.nextNode=current_node.nextNode\n",
        "    current_node.nextNode=newNode   \n",
        "  \n",
        "  # Delete Node\n",
        "  def remove_node(self,dataval):\n",
        "     current_node=self.headval\n",
        "     if current_node is None:\n",
        "       return\n",
        "     elif current_node.dataval==dataval:\n",
        "       self.headval=current_node.nextNode\n",
        "     else:\n",
        "       while(current_node.nextNode.dataval!=dataval):\n",
        "         current_node=current_node.nextNode\n",
        "       current_node.nextNode=current_node.nextNode.nextNode\n",
        "\n"
      ],
      "execution_count": 1,
      "outputs": []
    },
    {
      "cell_type": "code",
      "metadata": {
        "id": "ri7r_8yIko0K"
      },
      "source": [
        "list1=singly_link_list()"
      ],
      "execution_count": 2,
      "outputs": []
    },
    {
      "cell_type": "code",
      "metadata": {
        "colab": {
          "base_uri": "https://localhost:8080/"
        },
        "id": "UVsi9PnudWpi",
        "outputId": "75e61ebb-3fbf-458f-a955-2717978ba020"
      },
      "source": [
        "list1.insert_first('a')\n",
        "list1.print_list()"
      ],
      "execution_count": 3,
      "outputs": [
        {
          "output_type": "stream",
          "text": [
            "a\n"
          ],
          "name": "stdout"
        }
      ]
    },
    {
      "cell_type": "code",
      "metadata": {
        "colab": {
          "base_uri": "https://localhost:8080/"
        },
        "id": "W-YYQW2MNVgC",
        "outputId": "f85faff2-330a-4afe-e31e-e65d63a87cc3"
      },
      "source": [
        "list1.insert_last('b')\n",
        "list1.print_list()"
      ],
      "execution_count": 4,
      "outputs": [
        {
          "output_type": "stream",
          "text": [
            "a\n",
            "b\n"
          ],
          "name": "stdout"
        }
      ]
    },
    {
      "cell_type": "code",
      "metadata": {
        "colab": {
          "base_uri": "https://localhost:8080/"
        },
        "id": "TwtwCJebNdHx",
        "outputId": "364f47f7-b366-4d6d-84a2-b177231264f9"
      },
      "source": [
        "list1.insert_after('b','c')\n",
        "list1.print_list()"
      ],
      "execution_count": 5,
      "outputs": [
        {
          "output_type": "stream",
          "text": [
            "a\n",
            "b\n",
            "c\n"
          ],
          "name": "stdout"
        }
      ]
    },
    {
      "cell_type": "code",
      "metadata": {
        "colab": {
          "base_uri": "https://localhost:8080/"
        },
        "id": "hA382nTlNoUa",
        "outputId": "7af1b933-25df-46f2-bc7c-42ac85b6c29c"
      },
      "source": [
        "list1.remove_node('c')\n",
        "list1.print_list()"
      ],
      "execution_count": 6,
      "outputs": [
        {
          "output_type": "stream",
          "text": [
            "a\n",
            "b\n"
          ],
          "name": "stdout"
        }
      ]
    },
    {
      "cell_type": "code",
      "metadata": {
        "id": "slMR29MdOVyK"
      },
      "source": [
        ""
      ],
      "execution_count": 6,
      "outputs": []
    },
    {
      "cell_type": "code",
      "metadata": {
        "id": "iwp0Mq1HmFYV"
      },
      "source": [
        ""
      ],
      "execution_count": 6,
      "outputs": []
    }
  ]
}